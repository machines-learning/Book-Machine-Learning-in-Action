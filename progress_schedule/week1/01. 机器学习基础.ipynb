{
 "cells": [
  {
   "cell_type": "code",
   "execution_count": 1,
   "metadata": {},
   "outputs": [],
   "source": [
    "from numpy import *"
   ]
  },
  {
   "cell_type": "code",
   "execution_count": 2,
   "metadata": {},
   "outputs": [
    {
     "data": {
      "text/plain": [
       "array([[0.27661035, 0.56177801, 0.71055864, 0.06024838],\n",
       "       [0.85393311, 0.06845377, 0.24599059, 0.60277952],\n",
       "       [0.15598945, 0.48609348, 0.94777958, 0.0070559 ],\n",
       "       [0.82976698, 0.47081757, 0.71053011, 0.06195491]])"
      ]
     },
     "execution_count": 2,
     "metadata": {},
     "output_type": "execute_result"
    }
   ],
   "source": [
    "random.rand(4, 4)"
   ]
  },
  {
   "cell_type": "code",
   "execution_count": 3,
   "metadata": {},
   "outputs": [],
   "source": [
    "randMat = mat(random.rand(4, 4))"
   ]
  },
  {
   "cell_type": "code",
   "execution_count": 5,
   "metadata": {},
   "outputs": [
    {
     "data": {
      "text/plain": [
       "matrix([[ 0.67892227, -0.59357932, -0.1377519 ,  0.99650564],\n",
       "        [-0.20675841, -0.43984994,  1.97601789, -1.57542132],\n",
       "        [ 3.05773984,  0.22094703, -0.60511824, -1.14764612],\n",
       "        [-2.99307675,  1.39365503, -0.72095969,  1.80954838]])"
      ]
     },
     "execution_count": 5,
     "metadata": {},
     "output_type": "execute_result"
    }
   ],
   "source": [
    "randMat.I"
   ]
  },
  {
   "cell_type": "code",
   "execution_count": 6,
   "metadata": {},
   "outputs": [],
   "source": [
    "invRandMat = randMat.I"
   ]
  },
  {
   "cell_type": "code",
   "execution_count": 7,
   "metadata": {},
   "outputs": [
    {
     "data": {
      "text/plain": [
       "matrix([[ 1.00000000e+00,  0.00000000e+00,  0.00000000e+00,\n",
       "         -3.46944695e-17],\n",
       "        [-4.44089210e-16,  1.00000000e+00,  0.00000000e+00,\n",
       "          1.11022302e-16],\n",
       "        [ 0.00000000e+00,  0.00000000e+00,  1.00000000e+00,\n",
       "         -2.77555756e-16],\n",
       "        [ 0.00000000e+00,  0.00000000e+00,  5.55111512e-17,\n",
       "          1.00000000e+00]])"
      ]
     },
     "execution_count": 7,
     "metadata": {},
     "output_type": "execute_result"
    }
   ],
   "source": [
    "randMat * invRandMat"
   ]
  },
  {
   "cell_type": "code",
   "execution_count": 8,
   "metadata": {},
   "outputs": [
    {
     "data": {
      "text/plain": [
       "matrix([[ 2.22044605e-16,  0.00000000e+00,  0.00000000e+00,\n",
       "         -3.46944695e-17],\n",
       "        [-4.44089210e-16,  0.00000000e+00,  0.00000000e+00,\n",
       "          1.11022302e-16],\n",
       "        [ 0.00000000e+00,  0.00000000e+00,  4.44089210e-16,\n",
       "         -2.77555756e-16],\n",
       "        [ 0.00000000e+00,  0.00000000e+00,  5.55111512e-17,\n",
       "          0.00000000e+00]])"
      ]
     },
     "execution_count": 8,
     "metadata": {},
     "output_type": "execute_result"
    }
   ],
   "source": [
    "myEye = randMat * invRandMat\n",
    "myEye - eye(4)"
   ]
  },
  {
   "cell_type": "code",
   "execution_count": null,
   "metadata": {},
   "outputs": [],
   "source": []
  }
 ],
 "metadata": {
  "kernelspec": {
   "display_name": "Python [conda env:python3.6]",
   "language": "python",
   "name": "conda-env-python3.6-py"
  },
  "language_info": {
   "codemirror_mode": {
    "name": "ipython",
    "version": 3
   },
   "file_extension": ".py",
   "mimetype": "text/x-python",
   "name": "python",
   "nbconvert_exporter": "python",
   "pygments_lexer": "ipython3",
   "version": "3.6.6"
  }
 },
 "nbformat": 4,
 "nbformat_minor": 2
}
